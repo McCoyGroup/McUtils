{
 "cells": [
  {
   "cell_type": "markdown",
   "id": "03d4ecb6-e351-462c-913d-00c386aa0b3c",
   "metadata": {
    "pycharm": {
     "name": "#%% md\n"
    }
   },
   "source": [
    "# McUtils"
   ]
  },
  {
   "cell_type": "markdown",
   "id": "122937d3-9d8c-4bfc-af25-5b099af9c7b0",
   "metadata": {
    "pycharm": {
     "name": "#%% md\n"
    }
   },
   "source": [
    "This notebook tracks the most up to date version of `McUtils`.\n",
    "Test data is also available."
   ]
  },
  {
   "cell_type": "code",
   "execution_count": 2,
   "id": "5de6b4d4-2621-4388-ae6c-6d4ec43e264a",
   "metadata": {},
   "outputs": [],
   "source": [
    "import sys, os\n",
    "sys.path.insert(0, os.path.dirname(os.getcwd()))"
   ]
  },
  {
   "cell_type": "code",
   "execution_count": 3,
   "id": "86282e40-4ddd-43d3-93ec-b693d95b95f6",
   "metadata": {
    "pycharm": {
     "name": "#%%\n"
    }
   },
   "outputs": [],
   "source": [
    "import os\n",
    "import McUtils\n",
    "\n",
    "test_dir = os.path.join(os.path.dirname(os.path.dirname(McUtils.__file__)), 'ci', 'tests', 'TestData')\n",
    "def test_data(name):\n",
    "    return os.path.join(test_dir, name)"
   ]
  },
  {
   "cell_type": "markdown",
   "id": "d8f912b7-7f7b-4c96-9976-0579be077c8f",
   "metadata": {},
   "source": [
    "## Examples"
   ]
  },
  {
   "cell_type": "markdown",
   "id": "1e885c61-d14e-4e80-be10-2a6ef74fe316",
   "metadata": {},
   "source": [
    "_This content is borrowed directly from [the docs](https://mccoygroup.github.io/McUtils/McUtils)_"
   ]
  },
  {
   "cell_type": "markdown",
   "id": "0be6b4e8-3451-4887-98a6-df0e8bc73382",
   "metadata": {},
   "source": [
    "We will provide a brief examples for the common use cases for each module.\n",
    "More information can be found on the pages themselves.\n",
    "The unit tests for each package are provided on the bottom of the package page.\n",
    "These provide useful usage examples."
   ]
  },
  {
   "cell_type": "markdown",
   "id": "cafecaf3-3499-4158-8c89-29d693a9728c",
   "metadata": {},
   "source": [
    "## Parsers"
   ]
  },
  {
   "cell_type": "markdown",
   "id": "c61a85e3-45ab-498d-97ed-3694232aea8d",
   "metadata": {},
   "source": [
    "The `Parsers` package provides a toolkit for easily parsing string data out of files."
   ]
  },
  {
   "cell_type": "code",
   "execution_count": 10,
   "id": "321d59c5-7900-4259-b676-01be3d7fcd20",
   "metadata": {},
   "outputs": [],
   "source": [
    "from McUtils.Parsers import *"
   ]
  },
  {
   "cell_type": "markdown",
   "id": "6b484e31-cd67-4c5b-9971-5147c183bd13",
   "metadata": {},
   "source": [
    "Here we'll get every key-value pair matching the pattern `key = value` from a Gaussian `.log` file"
   ]
  },
  {
   "cell_type": "code",
   "execution_count": 11,
   "id": "eb65f373-e2a5-4dc4-87db-fd3d6e6be869",
   "metadata": {},
   "outputs": [
    {
     "data": {
      "text/plain": [
       "array(['0', 'Input', 'Output', ..., 'State', 'RMSD', 'PG'], dtype='<U7')"
      ]
     },
     "execution_count": 11,
     "metadata": {},
     "output_type": "execute_result"
    }
   ],
   "source": [
    "with open(test_data('water_OH_scan.log')) as log_dat:\n",
    "    sample_data = log_dat.read()\n",
    "\n",
    "key_value_matcher = RegexPattern([Named(Word, \"key\"), \"=\", Named(Word, \"value\")])\n",
    "key_vals = StringParser(key_value_matcher).parse_all(sample_data)\n",
    "key_vals['key'].array"
   ]
  },
  {
   "cell_type": "markdown",
   "id": "a73a69dd-7f52-4fb1-9d12-50aa8363fa4d",
   "metadata": {},
   "source": [
    "It's used extensively in the `GaussianInterface` package."
   ]
  },
  {
   "cell_type": "markdown",
   "id": "47f485b0-4f1b-4bc2-8670-da9bb2b95b42",
   "metadata": {},
   "source": [
    "## Plots"
   ]
  },
  {
   "cell_type": "markdown",
   "id": "99f84d28-5505-45ae-80dd-cc4a6d6d978a",
   "metadata": {},
   "source": [
    "A layer on `matplotlib` to provide more declarative syntax and easier composability."
   ]
  },
  {
   "cell_type": "code",
   "execution_count": 12,
   "id": "5c8b7ee4-93e6-407a-b994-62bd645d267c",
   "metadata": {},
   "outputs": [],
   "source": [
    "from McUtils.Plots import *"
   ]
  },
  {
   "cell_type": "markdown",
   "id": "72366432-fdcc-48af-aeae-08d2da072039",
   "metadata": {},
   "source": [
    "Here we'll make a styled `GraphicsGrid`"
   ]
  },
  {
   "cell_type": "code",
   "execution_count": 15,
   "id": "1aa34c5a-dcce-45f4-aacd-c0c6dbc5888e",
   "metadata": {},
   "outputs": [
    {
     "data": {
      "image/png": "[encoded data removed]",
      "text/plain": [
       "<Figure size 1095x375 with 4 Axes>"
      ]
     },
     "metadata": {},
     "output_type": "display_data"
    }
   ],
   "source": [
    "import numpy as np\n",
    "\n",
    "grid = np.linspace(0, 2 * np.pi, 100)\n",
    "grid_2D = np.meshgrid(grid, grid)\n",
    "x = grid_2D[1]\n",
    "y = grid_2D[0]\n",
    "\n",
    "main = GraphicsGrid(ncols=3, nrows=1, theme='Solarize_Light2', figure_label='my beuatufil triptych',\n",
    "                            padding=((35, 60), (35, 40)), subimage_size=(300, 300)\n",
    "                   )\n",
    "main[0, 0] = ContourPlot(x, y, np.sin(y), plot_label='$sin(x)$',\n",
    "                         axes_labels=[None, \"cats (cc)\"],\n",
    "                         figure=main[0, 0]\n",
    "                         )\n",
    "main[0, 1] = ContourPlot(x, y, np.sin(x) * np.cos(y),\n",
    "                         plot_label='$sin(x)cos(y)$',\n",
    "                         axes_labels=[Styled(\"dogs (arb.)\", {'color': 'red'}), None],\n",
    "                         figure=main[0, 1])\n",
    "main[0, 2] = ContourPlot(x, y, np.cos(y), plot_label='$cos(y)$', figure=main[0, 2])\n",
    "main.colorbar = {\"graphics\": main[0, 1].graphics}"
   ]
  },
  {
   "cell_type": "markdown",
   "id": "905523d2-c2e4-4f93-aa64-fe782fa61e93",
   "metadata": {},
   "source": [
    "## Data"
   ]
  },
  {
   "cell_type": "markdown",
   "id": "b640ddc0-5715-431c-9e75-e0e3b6294184",
   "metadata": {},
   "source": [
    "Provides access to relevant atomic/units data pulled from NIST databases."
   ]
  },
  {
   "cell_type": "code",
   "execution_count": 16,
   "id": "acd6c0e0-35fe-4e56-9cfe-be527f43537e",
   "metadata": {},
   "outputs": [],
   "source": [
    "from McUtils.Data import *"
   ]
  },
  {
   "cell_type": "markdown",
   "id": "7021c464-a97c-410d-993d-b868f476a21a",
   "metadata": {},
   "source": [
    "Pull the record for deuterium"
   ]
  },
  {
   "cell_type": "code",
   "execution_count": 17,
   "id": "17721ba2-95cf-4c14-88ec-d4b3d54d778e",
   "metadata": {},
   "outputs": [
    {
     "data": {
      "text/plain": [
       "DataRecord('D', AtomDataHandler('AtomData', file='None'))"
      ]
     },
     "execution_count": 17,
     "metadata": {},
     "output_type": "execute_result"
    }
   ],
   "source": [
    "AtomData[\"D\"]"
   ]
  },
  {
   "cell_type": "markdown",
   "id": "160b7640-d367-4a24-8fa4-cf9dfddf7039",
   "metadata": {},
   "source": [
    "Grab the isotopically correct atomic mass"
   ]
  },
  {
   "cell_type": "code",
   "execution_count": 18,
   "id": "fe6a206d-a7cb-4532-820c-377e80c41538",
   "metadata": {},
   "outputs": [
    {
     "data": {
      "text/plain": [
       "2.01410177812"
      ]
     },
     "execution_count": 18,
     "metadata": {},
     "output_type": "execute_result"
    }
   ],
   "source": [
    "AtomData[\"D\", \"Mass\"]"
   ]
  },
  {
   "cell_type": "markdown",
   "id": "2058cab5-53b8-4ba7-8910-c57289535190",
   "metadata": {},
   "source": [
    "Get all possible keys"
   ]
  },
  {
   "cell_type": "code",
   "execution_count": 19,
   "id": "12e99b07-c150-4718-aff8-3a7e6dda5947",
   "metadata": {},
   "outputs": [
    {
     "data": {
      "text/plain": [
       "dict_keys(['Name', 'Symbol', 'Mass', 'Number', 'MassNumber', 'IsotopeFraction', 'CanonicalName', 'CanonicalSymbol', 'ElementName', 'ElementSymbol', 'IconColor', 'IconRadius', 'PrimaryIsotope', 'StandardAtomicWeights'])"
      ]
     },
     "execution_count": 19,
     "metadata": {},
     "output_type": "execute_result"
    }
   ],
   "source": [
    "AtomData[\"D\"].keys()"
   ]
  },
  {
   "cell_type": "markdown",
   "id": "914984c2-caef-4646-91b6-56f073b26f2f",
   "metadata": {},
   "source": [
    "Get the conversion from Hartrees to wavenumbers"
   ]
  },
  {
   "cell_type": "code",
   "execution_count": 20,
   "id": "2c5ce284-83d5-417f-a3cb-7182ea9eb071",
   "metadata": {},
   "outputs": [
    {
     "data": {
      "text/plain": [
       "219474.6313632"
      ]
     },
     "execution_count": 20,
     "metadata": {},
     "output_type": "execute_result"
    }
   ],
   "source": [
    "UnitsData.convert(\"Hartrees\", \"Wavenumbers\")"
   ]
  },
  {
   "cell_type": "markdown",
   "id": "e1d1d52f-3e93-4da0-b98c-2a478db1267c",
   "metadata": {},
   "source": [
    "This conversion is not in the underlying database but is computed implicitly."
   ]
  },
  {
   "cell_type": "markdown",
   "id": "dbe5f464-c554-4ec5-aff7-04e74fc18521",
   "metadata": {},
   "source": [
    "Another example: here we first query the direct conversion"
   ]
  },
  {
   "cell_type": "code",
   "execution_count": 21,
   "id": "0d874e7a-2fcb-4521-993e-43233e757e04",
   "metadata": {},
   "outputs": [
    {
     "ename": "KeyError",
     "evalue": "('AtomicMassUnits', 'Wavenumbers')",
     "output_type": "error",
     "traceback": [
      "\u001B[0;31m---------------------------------------------------------------------------\u001B[0m",
      "\u001B[0;31mKeyError\u001B[0m                                  Traceback (most recent call last)",
      "\u001B[0;32m<ipython-input-21-f8c4bfa8f59e>\u001B[0m in \u001B[0;36m<module>\u001B[0;34m\u001B[0m\n\u001B[0;32m----> 1\u001B[0;31m \u001B[0mUnitsData\u001B[0m\u001B[0;34m.\u001B[0m\u001B[0mdata\u001B[0m\u001B[0;34m[\u001B[0m\u001B[0;34m(\u001B[0m\u001B[0;34m\"AtomicMassUnits\"\u001B[0m\u001B[0;34m,\u001B[0m \u001B[0;34m\"Wavenumbers\"\u001B[0m\u001B[0;34m)\u001B[0m\u001B[0;34m]\u001B[0m\u001B[0;34m\u001B[0m\u001B[0;34m\u001B[0m\u001B[0m\n\u001B[0m",
      "\u001B[0;31mKeyError\u001B[0m: ('AtomicMassUnits', 'Wavenumbers')"
     ]
    }
   ],
   "source": [
    "UnitsData.data[(\"AtomicMassUnits\", \"Wavenumbers\")]"
   ]
  },
  {
   "cell_type": "markdown",
   "id": "7ccfb2c3-4892-4917-9542-eaa5d5b8f55d",
   "metadata": {},
   "source": [
    "But we are still able to find a chain of conversions that will allow us to convert the two units"
   ]
  },
  {
   "cell_type": "code",
   "execution_count": 22,
   "id": "4edc6458-5f18-4d7d-b584-a8af8b6f5982",
   "metadata": {},
   "outputs": [
    {
     "data": {
      "text/plain": [
       "7513006610400.0"
      ]
     },
     "execution_count": 22,
     "metadata": {},
     "output_type": "execute_result"
    }
   ],
   "source": [
    "UnitsData.convert(\"AtomicMassUnits\", \"Wavenumbers\")"
   ]
  },
  {
   "cell_type": "markdown",
   "id": "03a82ca5-e801-49de-888d-e5deff3fefca",
   "metadata": {},
   "source": [
    "This routes through the fact that there is a known conversion between amu and $E_h$"
   ]
  },
  {
   "cell_type": "code",
   "execution_count": 23,
   "id": "f16756d6-e781-4e3c-84d2-4e478ecd856a",
   "metadata": {},
   "outputs": [
    {
     "data": {
      "text/plain": [
       "{'Value': 34231776.874,\n",
       " 'Uncertainty': 0.01,\n",
       " 'Conversion': ('AtomicMassUnits', 'Hartrees')}"
      ]
     },
     "execution_count": 23,
     "metadata": {},
     "output_type": "execute_result"
    }
   ],
   "source": [
    "UnitsData.data[(\"AtomicMassUnits\", \"Hartrees\")]"
   ]
  },
  {
   "cell_type": "markdown",
   "id": "c6212fa9-c92b-4663-a6a9-d06250b57cfb",
   "metadata": {},
   "source": [
    "## Coordinerds"
   ]
  },
  {
   "cell_type": "markdown",
   "id": "ab421203-5c48-4e01-a51c-0a23a3870d0d",
   "metadata": {},
   "source": [
    "Provides utilities for writing coordinate conversions and obtaining Jacobians between coordinate systems."
   ]
  },
  {
   "cell_type": "code",
   "execution_count": 24,
   "id": "e52c902a-cf1d-40df-9bca-6cf7a4450b28",
   "metadata": {},
   "outputs": [],
   "source": [
    "from McUtils.Coordinerds import *"
   ]
  },
  {
   "cell_type": "markdown",
   "id": "7563e009-421e-41d4-8779-3c570940e05d",
   "metadata": {},
   "source": [
    "First we make a set of Cartesian coordinates"
   ]
  },
  {
   "cell_type": "code",
   "execution_count": 26,
   "id": "c165974c-4996-4fb6-bf96-9a7ae362a319",
   "metadata": {},
   "outputs": [
    {
     "data": {
      "text/plain": [
       "CoordinateSet([[ 0.        ,  0.        ,  0.        ],\n",
       "               [ 0.53121062,  0.        ,  0.        ],\n",
       "               [ 0.05490899,  0.57468659,  0.        ],\n",
       "               [-0.06188516, -0.02418993,  0.47216881],\n",
       "               [ 0.01533089,  0.38336902,  0.23086295],\n",
       "               [ 0.13100956,  0.3043565 ,  0.53169318]])"
      ]
     },
     "execution_count": 26,
     "metadata": {},
     "output_type": "execute_result"
    }
   ],
   "source": [
    "struct = [\n",
    "            [ 0.0,                    0.0,                   0.0                ],\n",
    "            [ 0.5312106220949451,     0.0,                   0.0                ],\n",
    "            [ 5.4908987527698905e-2,  0.5746865893353914,    0.0                ],\n",
    "            [-6.188515885294378e-2,  -2.4189926062338385e-2, 0.4721688095375285 ],\n",
    "            [ 1.53308938205413e-2,    0.3833690190410768,    0.23086294551212294],\n",
    "            [ 0.1310095622893345,     0.30435650497612,      0.5316931774973834 ]\n",
    "        ]\n",
    "coords = CoordinateSet(struct)\n",
    "coords"
   ]
  },
  {
   "cell_type": "markdown",
   "id": "fd1e56e9-752f-4259-9ba9-bf23b707de22",
   "metadata": {},
   "source": [
    "then we convert that to Z-matrix coordinates"
   ]
  },
  {
   "cell_type": "code",
   "execution_count": 34,
   "id": "52216615-00f6-412b-8103-3ba767bc0c3d",
   "metadata": {},
   "outputs": [
    {
     "data": {
      "text/plain": [
       "CoordinateSet([[ 0.53121062,  0.        ,  0.        ],\n",
       "               [ 0.74641002,  0.878738  ,  0.        ],\n",
       "               [ 0.77151626,  1.04598737, -0.7854913 ],\n",
       "               [ 0.30243435,  1.15540698, -0.98685875],\n",
       "               [ 0.60130465,  1.12973263, -1.35974392]])"
      ]
     },
     "execution_count": 34,
     "metadata": {},
     "output_type": "execute_result"
    }
   ],
   "source": [
    "icrds = coords.convert(ZMatrixCoordinates, ordering = [\n",
    "    [0, -1, -1, -1],\n",
    "    [1,  0, -1, -1],\n",
    "    [2,  1,  0, -1],\n",
    "    [3,  2,  1,  0],\n",
    "    [4,  2,  1,  0],\n",
    "    [5,  2,  1,  0]\n",
    "])\n",
    "icrds"
   ]
  },
  {
   "cell_type": "markdown",
   "id": "ea31aaf9-95d0-43f3-b75b-d4897cd3c3da",
   "metadata": {},
   "source": [
    "We can also directly back-convert"
   ]
  },
  {
   "cell_type": "code",
   "execution_count": 30,
   "id": "3a745e1a-9b09-4018-a38a-b23230c72b5e",
   "metadata": {},
   "outputs": [
    {
     "data": {
      "text/plain": [
       "CoordinateSet([[ 0.        ,  0.        ,  0.        ],\n",
       "               [ 0.53121062,  0.        ,  0.        ],\n",
       "               [ 0.05490899,  0.57468659,  0.        ],\n",
       "               [-0.06188516, -0.02418993,  0.47216881],\n",
       "               [ 0.01533089,  0.38336902,  0.23086295],\n",
       "               [ 0.13100956,  0.3043565 ,  0.53169318]])"
      ]
     },
     "execution_count": 30,
     "metadata": {},
     "output_type": "execute_result"
    }
   ],
   "source": [
    "icrds.convert(coords.system)"
   ]
  },
  {
   "cell_type": "markdown",
   "id": "a9729e43-2c9f-40e1-ab1c-e9ce2321ee7c",
   "metadata": {},
   "source": [
    "We can also get the Jacobian for the transformation"
   ]
  },
  {
   "cell_type": "code",
   "execution_count": 45,
   "id": "4b696bf4-2fb7-4c50-951f-432117f037dd",
   "metadata": {},
   "outputs": [
    {
     "data": {
      "text/plain": [
       "[(6, 3, 5, 3),\n",
       " array([[[-1.        ,  0.        ,  0.        ],\n",
       "         [ 0.        , -0.        ,  0.        ],\n",
       "         [ 0.        ,  0.        ,  0.        ],\n",
       "         [ 0.        ,  0.        ,  0.        ],\n",
       "         [ 0.        ,  0.        ,  0.        ]],\n",
       " \n",
       "        [[ 0.        ,  0.        ,  0.        ],\n",
       "         [ 0.        , -1.88249248,  0.        ],\n",
       "         [ 0.        ,  0.        ,  0.        ],\n",
       "         [ 0.        ,  0.        ,  0.        ],\n",
       "         [ 0.        ,  0.        ,  0.        ]],\n",
       " \n",
       "        [[ 0.        ,  0.        ,  0.        ],\n",
       "         [ 0.        , -0.        ,  0.        ],\n",
       "         [ 0.        ,  0.        ,  2.44500443],\n",
       "         [ 0.        ,  0.        ,  2.44500443],\n",
       "         [ 0.        ,  0.        ,  2.44500443]]])]"
      ]
     },
     "execution_count": 45,
     "metadata": {},
     "output_type": "execute_result"
    }
   ],
   "source": [
    "jac = coords.jacobian(ZMatrixCoordinates, converter_options=dict(\n",
    "    ordering = [\n",
    "        [0, -1, -1, -1],\n",
    "        [1,  0, -1, -1],\n",
    "        [2,  1,  0, -1],\n",
    "        [3,  2,  1,  0],\n",
    "        [4,  2,  1,  0],\n",
    "        [5,  2,  1,  0]\n",
    "    ]\n",
    "))\n",
    "[\n",
    "    jac.shape,\n",
    "    jac[0]\n",
    "]"
   ]
  },
  {
   "cell_type": "markdown",
   "id": "d126c49e-bda8-4b1d-8b05-f2db90908c8c",
   "metadata": {},
   "source": [
    "## Zachary"
   ]
  },
  {
   "cell_type": "markdown",
   "id": "e20ebf05-1e8c-43d0-9992-2487621f28b8",
   "metadata": {},
   "source": [
    "Zachary is a higher-level package than `Numputils` and handles all numerical/tensor operations."
   ]
  },
  {
   "cell_type": "code",
   "execution_count": 4,
   "id": "a7e8c0de-eaa4-47de-bb1d-848490e3fbfd",
   "metadata": {},
   "outputs": [],
   "source": [
    "from McUtils.Zachary import *"
   ]
  },
  {
   "cell_type": "markdown",
   "id": "2f358951-da52-43da-b180-c5f518a29afa",
   "metadata": {},
   "source": [
    "It's become something of a monster but is very useful."
   ]
  },
  {
   "cell_type": "markdown",
   "id": "9328905d-a34b-49fd-986f-4a2f8e5db5b8",
   "metadata": {},
   "source": [
    "1D finite difference derivative via [finite_difference](Zachary/FiniteDifferenceFunction/finite_difference.md):"
   ]
  },
  {
   "cell_type": "code",
   "execution_count": 57,
   "id": "0e91a306-0932-47c7-b686-83d8e245f025",
   "metadata": {},
   "outputs": [
    {
     "data": {
      "image/png": "[encoded data removed]",
      "text/plain": [
       "<Figure size 500x300 with 1 Axes>"
      ]
     },
     "metadata": {
      "needs_background": "light"
     },
     "output_type": "display_data"
    }
   ],
   "source": [
    "import numpy as np\n",
    "sin_grid = np.linspace(0, 2*np.pi, 200)\n",
    "sin_vals = np.sin(sin_grid)\n",
    "\n",
    "deriv = finite_difference(sin_grid, sin_vals, 3) # 3rd deriv\n",
    "base = Plot(sin_grid, deriv, aspect_ratio=.6, image_size=500)\n",
    "Plot(sin_grid, np.sin(sin_grid), figure=base)"
   ]
  },
  {
   "cell_type": "markdown",
   "id": "72dbe715-6b61-42f1-8aa1-8671b8d9ed7a",
   "metadata": {},
   "source": [
    "2D finite difference derivative via [finite_difference](Zachary/FiniteDifferenceFunction/finite_difference.md):"
   ]
  },
  {
   "cell_type": "code",
   "execution_count": 9,
   "id": "07a69970-4801-49db-b7e9-8d4c3538ec4b",
   "metadata": {},
   "outputs": [],
   "source": [
    "from McUtils.Jupyter import ModuleReloader\n",
    "ModuleReloader('McUtils').reload()\n",
    "from McUtils.Zachary import *\n",
    "from McUtils.Plots import *"
   ]
  },
  {
   "cell_type": "code",
   "execution_count": 5,
   "id": "9de3f633-34a0-40a6-a510-a0110a004c8e",
   "metadata": {},
   "outputs": [],
   "source": [
    "from McUtils.Plots import *\n",
    "import numpy as np"
   ]
  },
  {
   "cell_type": "code",
   "execution_count": null,
   "outputs": [],
   "source": [
    "from McUtils.Jupyter import ModuleReloader\n",
    "ModuleReloader('McUtils').reload()\n",
    "from McUtils.Zachary import *\n",
    "from McUtils.Plots import *\n",
    "\n",
    "x_grid = np.linspace(0, 2*np.pi, 200)\n",
    "y_grid = np.linspace(0, 2*np.pi, 100)\n",
    "sin_x_vals = np.sin(x_grid); sin_y_vals =  np.sin(y_grid)\n",
    "vals_2D = np.outer(sin_x_vals, sin_y_vals)\n",
    "grid_2D = np.array(np.meshgrid(x_grid, y_grid)).T\n",
    "\n",
    "deriv = finite_difference(grid_2D, vals_2D, (1, 3))\n",
    "TensorPlot(np.array([vals_2D, deriv]), image_size=500, aspect_ratio=1)"
   ],
   "metadata": {
    "collapsed": false,
    "pycharm": {
     "name": "#%%\n"
    }
   }
  },
  {
   "cell_type": "code",
   "execution_count": null,
   "id": "45ba2148-6e2e-4750-b4c4-ad0a835808c9",
   "metadata": {},
   "outputs": [],
   "source": []
  }
 ],
 "metadata": {
  "kernelspec": {
   "display_name": "pyenv38",
   "language": "python",
   "name": "pyenv38"
  },
  "language_info": {
   "codemirror_mode": {
    "name": "ipython",
    "version": 3
   },
   "file_extension": ".py",
   "mimetype": "text/x-python",
   "name": "python",
   "nbconvert_exporter": "python",
   "pygments_lexer": "ipython3",
   "version": "3.8.8"
  }
 },
 "nbformat": 4,
 "nbformat_minor": 5
}