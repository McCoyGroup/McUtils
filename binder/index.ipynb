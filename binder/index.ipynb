{
 "cells": [
  {
   "cell_type": "markdown",
   "id": "03d4ecb6-e351-462c-913d-00c386aa0b3c",
   "metadata": {},
   "source": [
    "# McUtils"
   ]
  },
  {
   "cell_type": "markdown",
   "id": "122937d3-9d8c-4bfc-af25-5b099af9c7b0",
   "metadata": {},
   "source": [
    "This notebook tracks the most up to date version of `McUtils`.\n",
    "Test data is also available."
   ]
  },
  {
   "cell_type": "code",
   "execution_count": null,
   "id": "86282e40-4ddd-43d3-93ec-b693d95b95f6",
   "metadata": {},
   "outputs": [
    {
     "ename": "ModuleNotFoundError",
     "evalue": "No module named 'McUtils'",
     "output_type": "error",
     "traceback": [
      "\u001b[0;31m---------------------------------------------------------------------------\u001b[0m",
      "\u001b[0;31mModuleNotFoundError\u001b[0m                       Traceback (most recent call last)",
      "\u001b[0;32m<ipython-input-1-f2443ec8bdd3>\u001b[0m in \u001b[0;36m<module>\u001b[0;34m()\u001b[0m\n\u001b[0;32m----> 1\u001b[0;31m \u001b[0;32mimport\u001b[0m \u001b[0mMcUtils\u001b[0m \u001b[0;32mas\u001b[0m \u001b[0mmc\u001b[0m\u001b[0;34m\u001b[0m\u001b[0m\n\u001b[0m",
      "\u001b[0;31mModuleNotFoundError\u001b[0m: No module named 'McUtils'"
     ]
    }
   ],
   "source": [
    "import McUtils as mc"
   ]
  }
 ],
 "metadata": {
  "kernelspec": {
   "display_name": "Python 3",
   "language": "python",
   "name": "python3"
  },
  "language_info": {
   "codemirror_mode": {
    "name": "ipython",
    "version": 3
   },
   "file_extension": ".py",
   "mimetype": "text/x-python",
   "name": "python",
   "nbconvert_exporter": "python",
   "pygments_lexer": "ipython3",
   "version": "3.7.0"
  }
 },
 "nbformat": 4,
 "nbformat_minor": 5
}
