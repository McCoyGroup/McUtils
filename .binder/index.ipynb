{
 "cells": [
  {
   "cell_type": "markdown",
   "id": "03d4ecb6-e351-462c-913d-00c386aa0b3c",
   "metadata": {},
   "source": [
    "# McUtils"
   ]
  },
  {
   "cell_type": "code",
   "execution_count": null,
   "id": "86282e40-4ddd-43d3-93ec-b693d95b95f6",
   "metadata": {},
   "outputs": [],
   "source": []
  }
 ],
 "metadata": {
  "kernelspec": {
   "display_name": "Python 3",
   "language": "python",
   "name": "python3"
  },
  "language_info": {
   "codemirror_mode": {
    "name": "ipython",
    "version": 3
   },
   "file_extension": ".py",
   "mimetype": "text/x-python",
   "name": "python",
   "nbconvert_exporter": "python",
   "pygments_lexer": "ipython3",
   "version": "3.7.0"
  }
 },
 "nbformat": 4,
 "nbformat_minor": 5
}
